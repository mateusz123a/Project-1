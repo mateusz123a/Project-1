{
 "cells": [
  {
   "cell_type": "markdown",
   "metadata": {},
   "source": [
    "# Preliminaries"
   ]
  },
  {
   "cell_type": "code",
   "execution_count": 1,
   "metadata": {},
   "outputs": [],
   "source": [
    "import numpy as np\n",
    "from numpy import random as rd\n",
    "from numpy import linalg as la\n",
    "import matplotlib.pyplot as plt\n",
    "from scipy.stats import norm\n",
    "plt.rcParams['figure.figsize'] = [10, 6]\n",
    "\n",
    "# Supplied code:\n",
    "\n",
    "from numpy import pi, sqrt, log, exp\n",
    "\n",
    "#\n",
    "# Normal cumulative distribution function, with extension\n",
    "# for complex argument with small imaginary component\n",
    "#\n",
    "\n",
    "\n",
    "def norm_cdf(x):\n",
    "    if not isinstance(x, np.ndarray):\n",
    "        xr = x.real\n",
    "        xi = x.imag\n",
    "        if abs(xi) > 1.0e-10:\n",
    "            raise ValueError(\"imag(x) too large in norm_cdf(x)\")\n",
    "\n",
    "        ncf = norm.cdf(xr)\n",
    "        if abs(xi) > 0:\n",
    "            ncf = ncf + 1.0j * xi * norm.pdf(xr)\n",
    "    else:\n",
    "        xr = np.real(x)\n",
    "        xi = np.imag(x)\n",
    "        if any(abs(xi) > 1.0e-10):\n",
    "            raise ValueError(\"imag(x) too large in norm_cdf(x)\")\n",
    "\n",
    "        ncf = norm.cdf(xr)\n",
    "        if any(abs(xi) > 0):\n",
    "            ncf = ncf + 1.0j * xi * norm.pdf(xr)\n",
    "\n",
    "    return ncf\n",
    "\n",
    "\n",
    "# V = european_call(r,sigma,T,S,K,opt)\n",
    "#\n",
    "# Black-Scholes European call option solution\n",
    "# as defined in equation (3.17) on page 48 of\n",
    "# The Mathematics of Financial Derivatives\n",
    "# by Wilmott, Howison and Dewynne\n",
    "#\n",
    "# r     - interest rate\n",
    "# sigma - volatility\n",
    "# T     - time interval\n",
    "# S     - asset value(s)  (float or flattened numpy array)\n",
    "# K     - strike price(s) (float or flattened numpy array)\n",
    "# opt   - 'value', 'delta', 'gamma' or 'vega'\n",
    "# V     - option value(s) (float or flattened numpy array)\n",
    "#\n",
    "\n",
    "\n",
    "def european_call(r, sigma, T, S, K, opt):\n",
    "\n",
    "    S = S + 1.0e-100  # avoids problems with S=0\n",
    "    K = K + 1.0e-100  # avoids problems with K=0\n",
    "\n",
    "    d1 = (log(S) - log(K) + (r + 0.5 * sigma ** 2) * T) / (sigma * sqrt(T))\n",
    "    d2 = (log(S) - log(K) + (r - 0.5 * sigma ** 2) * T) / (sigma * sqrt(T))\n",
    "\n",
    "    if opt == \"value\":\n",
    "        V = S * norm_cdf(d1) - exp(-r * T) * K * norm_cdf(d2)\n",
    "    elif opt == \"delta\":\n",
    "        V = norm_cdf(d1)\n",
    "    elif opt == \"gamma\":\n",
    "        V = exp(-0.5 * d1 ** 2) / (sigma * sqrt(2 * pi * T) * S)\n",
    "    elif opt == \"vega\":\n",
    "        V = S * (exp(-0.5 * d1 ** 2) / sqrt(2 * pi)) * (sqrt(T) - d1 / sigma) - exp(\n",
    "            -r * T\n",
    "        ) * K * (exp(-0.5 * d2 ** 2) / sqrt(2 * pi)) * (-sqrt(T) - d2 / sigma)\n",
    "\n",
    "    else:\n",
    "        raise ValueError(\n",
    "            'invalid value for opt -- must be \"value\", \"delta\", \"gamma\", \"vega\"'\n",
    "        )\n",
    "\n",
    "    return V"
   ]
  },
  {
   "cell_type": "markdown",
   "metadata": {},
   "source": [
    "# Weak convergence"
   ]
  },
  {
   "cell_type": "code",
   "execution_count": 9,
   "metadata": {},
   "outputs": [
    {
     "name": "stderr",
     "output_type": "stream",
     "text": [
      "C:\\ProgramData\\Anaconda3\\lib\\site-packages\\ipykernel_launcher.py:32: DeprecationWarning: object of type <class 'float'> cannot be safely interpreted as an integer.\n"
     ]
    },
    {
     "data": {
      "image/png": "[encoded data removed]",
      "text/plain": [
       "<Figure size 432x288 with 1 Axes>"
      ]
     },
     "metadata": {
      "needs_background": "light"
     },
     "output_type": "display_data"
    }
   ],
   "source": [
    "#\n",
    "# Test weak convergence of Euler method\n",
    "# for European call option\n",
    "#\n",
    "# Test problem:   dS   = r*S dt + sig*S dW\n",
    "#\n",
    "\n",
    "#\n",
    "# problem parameters and exact solution\n",
    "#\n",
    "\n",
    "[r, sig, T, S0, K]   = [0.05, 0.5, 1, 100, 110] \n",
    "\n",
    "Ve  = european_call(r,sig,T,S0,K,'value')\n",
    "\n",
    "#\n",
    "# Monte Carlo simulation comparing to exact solution \n",
    "#\n",
    "\n",
    "M  = 1e7   # total number of Monte Carlo paths\n",
    "M2 = 1e4   # number of paths at a time \n",
    "\n",
    "[hh, err1, err2] = [np.empty(0), np.empty(0), np.empty(0)]\n",
    "\n",
    "for p in range(1, 7):\n",
    "    N = 2**p\n",
    "    h = T/N\n",
    "\n",
    "    [sum1, sum2] = [0, 0]\n",
    "    \n",
    "\n",
    "    for m in np.linspace(1,(M/M2 -1) *M2 + 1,num = M/M2):\n",
    "        \n",
    "        m2 = int(np.min([M2, M-m+1]))\n",
    "        S = S0*np.ones((1,m2))\n",
    "        \n",
    "        \n",
    "        for n in range(1,N+1):\n",
    "            dW = np.sqrt(h)*rd.randn(1,m2)\n",
    "            S  = S*(1+r*h+sig*dW)   \n",
    "\n",
    "        test = S-K\n",
    "        P = exp(-r*T)*(abs(test) + test) / 2\n",
    "\n",
    "        sum1 = sum1 + np.sum(P)\n",
    "        sum2 = sum2 + np.sum(P**2)\n",
    "\n",
    "    V  = sum1/M\n",
    "    sd = np.sqrt((sum2/M - (sum1/M)**2)/(M-1))\n",
    "\n",
    "    [hh, err1, err2] = [np.append(hh,h),np.append(err1,V-Ve),np.append(err2,3*sd)]\n",
    "    \n",
    "plt.plot(hh, np.abs(err1), label=\"Weak Error\")\n",
    "plt.plot(hh, err2, label=\"MC Error\")\n",
    "plt.title(\"Weak convergence -- comparison to exact solution\")\n",
    "plt.xlabel(\"h\")\n",
    "plt.ylabel(\"Error\")\n",
    "plt.legend(loc=\"lower right\")\n",
    "plt.show()"
   ]
  },
  {
   "cell_type": "code",
   "execution_count": 14,
   "metadata": {},
   "outputs": [
    {
     "name": "stderr",
     "output_type": "stream",
     "text": [
      "C:\\ProgramData\\Anaconda3\\lib\\site-packages\\ipykernel_launcher.py:17: DeprecationWarning: object of type <class 'float'> cannot be safely interpreted as an integer.\n"
     ]
    },
    {
     "data": {
      "image/png": "[encoded data removed]",
      "text/plain": [
       "<Figure size 432x288 with 1 Axes>"
      ]
     },
     "metadata": {
      "needs_background": "light"
     },
     "output_type": "display_data"
    }
   ],
   "source": [
    "#\n",
    "# Monte Carlo simulation comparing to 2h simulaton \n",
    "#\n",
    "\n",
    "M  = 1e7   # total number of Monte Carlo paths\n",
    "M2 = 1e4   # number of paths at a time \n",
    "\n",
    "[hh, err1, err2] = [np.empty(0), np.empty(0), np.empty(0)]\n",
    "\n",
    "for p in range(1, 8):\n",
    "    N = 2**p\n",
    "    h = T/N\n",
    "\n",
    "    [sum1, sum2] = [0, 0]\n",
    "    \n",
    "\n",
    "    for m in np.linspace(1,(M/M2 -1) *M2 + 1,num = M/M2):\n",
    "        \n",
    "        m2 = int(np.min([M2, M-m+1]))\n",
    "        [S, S2] = [S0*np.ones((1,m2)), S0*np.ones((1,m2))]\n",
    "        \n",
    "        \n",
    "        for n in range(1,int(N/2+1)):\n",
    "            dW1 = np.sqrt(h)*rd.randn(1,m2)\n",
    "            S  = S*(1+r*h+sig*dW1)\n",
    "            dW2 = np.sqrt(h)*rd.randn(1,m2)\n",
    "            S  = S*(1+r*h+sig*dW2)\n",
    "            \n",
    "            S2  = S2*(1+r*2*h+sig*(dW1+dW2))\n",
    "            \n",
    "        [test1, test2] = [S-K, S2-K]\n",
    "        P = exp(-r*T)*(abs(test1) + test1) / 2\n",
    "        P2 = exp(-r*T)*(abs(test2) + test2) / 2\n",
    "\n",
    "        sum1 = sum1 + np.sum(P-P2)\n",
    "        sum2 = sum2 + np.sum((P-P2)**2)\n",
    "\n",
    "    Vd  = sum1/M\n",
    "    sd = np.sqrt((sum2/M - (sum1/M)**2)/(M-1))\n",
    "\n",
    "    [hh, err1, err2] = [np.append(hh,h),np.append(err1,Vd),np.append(err2,3*sd)]\n",
    "    \n",
    "plt.plot(hh, np.abs(err1), label=\"Weak Error\")\n",
    "plt.plot(hh, err2, label=\"MC Error\")\n",
    "plt.title(\"Weak convergence -- difference from 2h approximation\")\n",
    "plt.xlabel(\"h\")\n",
    "plt.ylabel(\"Error\")\n",
    "plt.legend(loc=\"lower right\")\n",
    "plt.show()"
   ]
  },
  {
   "cell_type": "code",
   "execution_count": 25,
   "metadata": {},
   "outputs": [
    {
     "name": "stderr",
     "output_type": "stream",
     "text": [
      "C:\\ProgramData\\Anaconda3\\lib\\site-packages\\ipykernel_launcher.py:31: DeprecationWarning: object of type <class 'float'> cannot be safely interpreted as an integer.\n"
     ]
    },
    {
     "data": {
      "image/png": "[encoded data removed]",
      "text/plain": [
       "<Figure size 432x288 with 1 Axes>"
      ]
     },
     "metadata": {
      "needs_background": "light"
     },
     "output_type": "display_data"
    }
   ],
   "source": [
    "#\n",
    "# Test strong convergence of Euler method\n",
    "# for solving stochastic o.d.e.'s\n",
    "#\n",
    "# Test problem:   dS   = r*S dt + sig*S dW\n",
    "# Exact solution: S(1) = S(0)*exp((lambda-0.5*sig^2)+sig*W(1))\n",
    "#\n",
    "\n",
    "#\n",
    "# problem parameters\n",
    "#\n",
    "\n",
    "[r, sig, T, S0]   = [0.05, 0.5, 1, 100] \n",
    "\n",
    "#\n",
    "# Monte Carlo simulation comparing to 2h simulation\n",
    "#\n",
    "\n",
    "M  = 1e5   # total number of Monte Carlo paths\n",
    "M2 = 1e4   # number of paths at a time \n",
    "\n",
    "[hh, err1, err2, err3, err4] = [np.empty(0), np.empty(0), np.empty(0), np.empty(0), np.empty(0)]\n",
    "\n",
    "for p in range(1, 8):\n",
    "    N = 2**p\n",
    "    h = T/N\n",
    "\n",
    "    [sum1, sum2, sum3, sum4] = [0, 0, 0, 0]\n",
    "    \n",
    "\n",
    "    for m in np.linspace(1,(M/M2 -1) *M2 + 1,num = M/M2):\n",
    "        \n",
    "        m2 = int(np.min([M2, M-m+1]))\n",
    "        [S, S2, W] = [S0*np.ones((1,m2)), S0*np.ones((1,m2)), 0]\n",
    "        \n",
    "        \n",
    "        for n in range(1,N //2+1):\n",
    "            dW1 = np.sqrt(h)*rd.randn(1,m2)\n",
    "            S  = S*(1+r*h+sig*dW1)\n",
    "            dW2 = np.sqrt(h)*rd.randn(1,m2)\n",
    "            S  = S*(1+r*h+sig*dW2)\n",
    "            \n",
    "            S2  = S2*(1+r*2*h+sig*(dW1+dW2))\n",
    "            \n",
    "            W = W + dW1 + dW2\n",
    "            \n",
    "        Se = S0*exp((r-0.5*sig**2)*T + sig*W)\n",
    "        \n",
    "        de1 = (Se-S)**2\n",
    "        sum1 = sum1 + np.sum(de1)\n",
    "        sum2 = sum2 + np.sum(de1**2)\n",
    "\n",
    "        de1 = (S2-S)**2\n",
    "        sum3 = sum3 + np.sum(de1)\n",
    "        sum4 = sum4 + np.sum(de1**2)\n",
    "        \n",
    "        \n",
    "    Vd  = sum1/M\n",
    "    sd = np.sqrt((sum2/M - (sum1/M)**2)/(M-1))\n",
    "    \n",
    "    [hh, err1, err2] = [np.append(hh,h),np.append(err1,sqrt(Vd)),np.append(err2,0.5 *3*sd / sqrt(Vd))]\n",
    "    \n",
    "    Vd = sum3/M\n",
    "    sd = np.sqrt((sum4/M - (sum3/M)**2)/(M-1))\n",
    "    \n",
    "    [err3, err4] = [np.append(err3,sqrt(Vd)),np.append(err4,0.5 *3*sd / sqrt(Vd))]\n",
    "\n",
    "plt.plot(hh, np.abs(err1), label=\"Exact Error\")\n",
    "plt.plot(hh, err2, label=\"MC Error\")\n",
    "plt.plot(hh, np.abs(err3), label=\"Relative Error\")\n",
    "plt.plot(hh, err4, label=\"MC Error\")\n",
    "plt.title(\"Weak convergence -- difference from 2h approximation\")\n",
    "plt.xlabel(\"h\")\n",
    "plt.ylabel(\"Error\")\n",
    "plt.legend(loc=\"lower right\")\n",
    "plt.show()\n"
   ]
  }
 ],
 "metadata": {
  "kernelspec": {
   "display_name": "Python 3",
   "language": "python",
   "name": "python3"
  },
  "language_info": {
   "codemirror_mode": {
    "name": "ipython",
    "version": 3
   },
   "file_extension": ".py",
   "mimetype": "text/x-python",
   "name": "python",
   "nbconvert_exporter": "python",
   "pygments_lexer": "ipython3",
   "version": "3.7.1"
  },
  "latex_envs": {
   "LaTeX_envs_menu_present": true,
   "autoclose": false,
   "autocomplete": true,
   "bibliofile": "biblio.bib",
   "cite_by": "apalike",
   "current_citInitial": 1,
   "eqLabelWithNumbers": true,
   "eqNumInitial": 1,
   "hotkeys": {
    "equation": "Ctrl-E",
    "itemize": "Ctrl-I"
   },
   "labels_anchors": false,
   "latex_user_defs": false,
   "report_style_numbering": false,
   "user_envs_cfg": false
  },
  "toc": {
   "base_numbering": 1,
   "nav_menu": {},
   "number_sections": true,
   "sideBar": true,
   "skip_h1_title": false,
   "title_cell": "Table of Contents",
   "title_sidebar": "Contents",
   "toc_cell": false,
   "toc_position": {},
   "toc_section_display": true,
   "toc_window_display": false
  }
 },
 "nbformat": 4,
 "nbformat_minor": 2
}
