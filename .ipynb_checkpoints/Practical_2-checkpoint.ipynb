{
 "cells": [
  {
   "cell_type": "markdown",
   "metadata": {},
   "source": [
    "## Q3"
   ]
  },
  {
   "cell_type": "code",
   "execution_count": 21,
   "metadata": {},
   "outputs": [],
   "source": [
    "import numpy as np\n",
    "S0 = 100\n",
    "theta = 110\n",
    "k = 2\n",
    "sig = 0.5\n",
    "T = 1\n",
    "r = 0.05\n",
    "\n",
    "M  = 10**5  #total number of Monte Carlo paths\n",
    "M2 = 10**4  #number of paths at a time \n",
    "\n",
    "err1 = []\n",
    "err2 = []\n",
    "err3 = []\n",
    "err4 = []\n",
    "hh = []\n",
    "\n",
    "for p in range(1,8):\n",
    "    N = 2**p\n",
    "    h = T/N \n",
    "\n",
    "    sum3 = 0 #Used in the approximation error for 2h\n",
    "    sum4 = 0 #Used in the variance of the previous approximation\n",
    "\n",
    "    for m in range(1,11):\n",
    "        m2 = M2\n",
    "        S  = S0*np.ones((1,m2))\n",
    "        S2 = S0*np.ones((1,m2))\n",
    "        W  = 0\n",
    "\n",
    "        for i in range(1,int(N/2+1)):\n",
    "            dW1 = np.sqrt(h)*np.random.randn(1,m2)\n",
    "            S  = S*(1)+k*(theta-S)*h+sig*dW1\n",
    "            dW2 = np.sqrt(h)*np.random.randn(1,m2)\n",
    "            S  = S*(1)+k*(theta-S)*h+sig*dW2\n",
    "\n",
    "            S2 = S2*(1)+2*k*(theta-S2)*h+sig*(dW1+dW2)\n",
    "\n",
    "        sqr_error  = np.sum((S2-S)**2)\n",
    "        sum3 = sum3 + np.sum(sqr_error)\n",
    "        sum4 = sum4 + np.sum(sqr_error**2)\n",
    "\n",
    "\n",
    "\n",
    "    hh.append(h)\n",
    "\n",
    "    Vd = sum3/M\n",
    "    sd = np.sqrt((sum4/M - (sum3/M)**2)/(M-1))\n",
    "    err3.append(np.sqrt(Vd))\n",
    "    err4.append((0.5/np.sqrt(Vd)) * 3*sd)\n",
    "\n"
   ]
  },
  {
   "cell_type": "code",
   "execution_count": 22,
   "metadata": {},
   "outputs": [
    {
     "data": {
      "text/plain": [
       "Text(0.5,1,'Strong convergence -- difference from h and 2h approximation')"
      ]
     },
     "execution_count": 22,
     "metadata": {},
     "output_type": "execute_result"
    },
    {
     "data": {
      "image/png": "[encoded data removed]",
      "text/plain": [
       "<Figure size 432x288 with 1 Axes>"
      ]
     },
     "metadata": {},
     "output_type": "display_data"
    }
   ],
   "source": [
    "import matplotlib.pyplot as plt\n",
    "import seaborn as sns\n",
    "\n",
    "sns.set_style(\"darkgrid\")\n",
    "#plt.plot(hh,err1,'r',label = 'exact error')\n",
    "#plt.plot(hh,err2,'b',label = 'MC error')\n",
    "plt.plot(hh,err3,'r--',label = 'relative error')\n",
    "plt.plot(hh,err4, 'b--',label = 'MC error')\n",
    "plt.legend()\n",
    "plt.xlabel('h')\n",
    "plt.ylabel('Error')\n",
    "plt.title('Strong convergence -- difference from h and 2h approximation')"
   ]
  },
  {
   "cell_type": "markdown",
   "metadata": {},
   "source": [
    "## Q4"
   ]
  },
  {
   "cell_type": "code",
   "execution_count": 30,
   "metadata": {},
   "outputs": [],
   "source": [
    "import numpy as np\n",
    "S0 = 100\n",
    "theta = 0.25\n",
    "k = 2\n",
    "sig = 0.5\n",
    "T = 1\n",
    "r = 0.05\n",
    "v0 = 0.25\n",
    "xi = 0.5\n",
    "L = np.linalg.cholesky(np.array([[1,-0.1],[-0.1,1]]))\n",
    "\n",
    "M  = 10**5  #total number of Monte Carlo paths\n",
    "M2 = 10**4  #number of paths at a time \n",
    "\n",
    "err1 = []\n",
    "err2 = []\n",
    "err3 = []\n",
    "err4 = []\n",
    "hh = []\n",
    "\n",
    "for p in range(1,7):\n",
    "    N = 2**p\n",
    "    h = T/N \n",
    "\n",
    "    sum1 = 0 #Used in the approximation error for h\n",
    "    sum2 = 0 #Used in the variance of the previous approximation\n",
    "    sum3 = 0 #Used in the approximation error for 2h\n",
    "    sum4 = 0 #Used in the variance of the previous approximation\n",
    "\n",
    "    for m in range(1,11):\n",
    "        m2 = M2\n",
    "        S  = S0*np.ones((1,m2))\n",
    "        S2 = S0*np.ones((1,m2))\n",
    "        v  = v0*np.ones((1,m2))\n",
    "        v2 = v0*np.ones((1,m2))\n",
    "        W  = 0\n",
    "\n",
    "        for i in range(1,int(N/2+1)):\n",
    "            dW1 = np.sqrt(h)*np.random.randn(m2)\n",
    "            dW2 = np.sqrt(h)*np.random.randn(m2)\n",
    "            dW3 = np.sqrt(h)*np.random.randn(m2)\n",
    "            dW4 = np.sqrt(h)*np.random.randn(m2)\n",
    "            dW_1 = np.dot(L,np.array([dW1,dW2]))\n",
    "            dW_2 = np.dot(L,np.array([dW3,dW4]))\n",
    "            \n",
    "            S  = S+r*S*h+np.sqrt(abs(v))*S*dW_1[0]\n",
    "            v  = v+k*(theta-v)*h+xi*np.sqrt(abs(v))*dW_1[1]\n",
    "            S  = S+r*S*h+np.sqrt(abs(v))*S*dW_2[0]\n",
    "            v  = v+k*(theta-v)*h+xi*np.sqrt(abs(v))*dW_2[1]\n",
    "            \n",
    "            S2 = S+2*r*S*h+np.sqrt(abs(v))*S*(dW_1[0]+dW_2[0])\n",
    "            v2  = v2+k*(theta-v2)*2*h+xi*np.sqrt(abs(v))*(dW_1[1]+dW_2[1])\n",
    "            \n",
    "        sqr_error  = ((S2-S)**2)\n",
    "        sum3 = sum3 + np.sum(sqr_error)\n",
    "        sum4 = sum4 + np.sum(sqr_error**2)\n",
    "            \n",
    "\n",
    "    hh.append(h)\n",
    "\n",
    "\n",
    "    Vd = sum3/M\n",
    "    sd = np.sqrt((sum4/M - (sum3/M)**2)/(M-1))\n",
    "    err3.append(np.sqrt(Vd))\n",
    "    err4.append((0.5/np.sqrt(Vd)) * 3*sd)\n",
    "\n",
    "\n"
   ]
  },
  {
   "cell_type": "code",
   "execution_count": 25,
   "metadata": {
    "scrolled": true
   },
   "outputs": [
    {
     "data": {
      "text/plain": [
       "Text(0.5,1,'Strong convergence -- difference from h and 2h approximation')"
      ]
     },
     "execution_count": 25,
     "metadata": {},
     "output_type": "execute_result"
    },
    {
     "data": {
      "image/png": "[encoded data removed]",
      "text/plain": [
       "<Figure size 432x288 with 1 Axes>"
      ]
     },
     "metadata": {},
     "output_type": "display_data"
    }
   ],
   "source": [
    "import matplotlib.pyplot as plt\n",
    "import seaborn as sns\n",
    "\n",
    "sns.set_style(\"darkgrid\")\n",
    "#plt.plot(hh,err1,'r',label = 'exact error')\n",
    "#plt.plot(hh,err2,'b',label = 'MC error')\n",
    "plt.plot(hh,err3,'r--',label = 'relative error')\n",
    "plt.plot(hh,err4, 'b--',label = 'MC error')\n",
    "plt.legend()\n",
    "plt.xlabel('h')\n",
    "plt.ylabel('Error')\n",
    "plt.title('Strong convergence -- difference from h and 2h approximation')"
   ]
  }
 ],
 "metadata": {
  "kernelspec": {
   "display_name": "Python 3",
   "language": "python",
   "name": "python3"
  },
  "language_info": {
   "codemirror_mode": {
    "name": "ipython",
    "version": 3
   },
   "file_extension": ".py",
   "mimetype": "text/x-python",
   "name": "python",
   "nbconvert_exporter": "python",
   "pygments_lexer": "ipython3",
   "version": "3.7.1"
  },
  "latex_envs": {
   "LaTeX_envs_menu_present": true,
   "autoclose": false,
   "autocomplete": true,
   "bibliofile": "biblio.bib",
   "cite_by": "apalike",
   "current_citInitial": 1,
   "eqLabelWithNumbers": true,
   "eqNumInitial": 1,
   "hotkeys": {
    "equation": "Ctrl-E",
    "itemize": "Ctrl-I"
   },
   "labels_anchors": false,
   "latex_user_defs": false,
   "report_style_numbering": false,
   "user_envs_cfg": false
  },
  "toc": {
   "base_numbering": 1,
   "nav_menu": {},
   "number_sections": true,
   "sideBar": true,
   "skip_h1_title": false,
   "title_cell": "Table of Contents",
   "title_sidebar": "Contents",
   "toc_cell": false,
   "toc_position": {},
   "toc_section_display": true,
   "toc_window_display": false
  }
 },
 "nbformat": 4,
 "nbformat_minor": 2
}
