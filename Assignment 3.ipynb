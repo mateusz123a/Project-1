{
 "cells": [
  {
   "cell_type": "markdown",
   "metadata": {},
   "source": [
    "# Gene Transcription Model\n",
    "\n",
    "\\begin{align*}\n",
    "G &\\xrightarrow[]{25} G + 25 \\\\\n",
    "M &\\xrightarrow[]{1000} M + P \\\\\n",
    "P + P & \\xrightarrow[]{0.001} D \\\\\n",
    "M &\\xrightarrow[]{0.1} \\emptyset \\\\\n",
    "P &\\xrightarrow[]{1} \\emptyset\n",
    "\\end{align*}\n",
    "\n",
    "We gather the quantities into a vector\n",
    "$$ X_t = \\begin{pmatrix}\n",
    "\\text{# of $M$ molecues at time $t$} \\\\\n",
    "\\text{# of $P$ molecues at time $t$} \\\\\n",
    "\\text{# of $D$ molecues at time $t$}\n",
    "\\end{pmatrix} $$"
   ]
  },
  {
   "cell_type": "code",
   "execution_count": 77,
   "metadata": {},
   "outputs": [
    {
     "name": "stdout",
     "output_type": "stream",
     "text": [
      "3891.78\n"
     ]
    }
   ],
   "source": [
    "import numpy as np\n",
    "\n",
    "class Reaction(object):\n",
    "    def __init__(self, reactants, products, ease):\n",
    "        \"\"\"\n",
    "        reactants and products should be a list of integers\n",
    "        \"\"\"\n",
    "        self.reactants = reactants\n",
    "        self.products = products\n",
    "        self.change = np.array(products) - np.array(reactants)\n",
    "        self.ease = ease\n",
    "        \n",
    "    def rate(self, molecular_counts):\n",
    "        \"\"\"\n",
    "        molecular_counts[n, k] should give the number of molecules of\n",
    "        type k in the nth path. Returns rates such that rates[n] is the rate\n",
    "        this reaction in the nth path.\n",
    "        \"\"\"\n",
    "        N, _ = molecular_counts.shape\n",
    "        rate = self.ease * np.ones(N)\n",
    "        \n",
    "        for reactant, amount in enumerate(self.reactants):\n",
    "            for i in range(amount):\n",
    "                rate = rate * (molecular_counts[:,reactant] - i)\n",
    "        \n",
    "        return rate\n",
    "        \n",
    "reactions = [([1, 0, 0, 0], [1, 1, 0, 0], 25),\n",
    "             ([0, 1, 0, 0], [0, 1, 1, 0], 1000),\n",
    "             ([0, 0, 2, 0], [0, 0, 0, 1], 0.001),\n",
    "             ([0, 1, 0, 0], [0, 0, 0, 0], 0.1),\n",
    "             ([0, 0, 1, 0], [0, 0, 0, 0], 1)]\n",
    "\n",
    "reactions = [Reaction(*reaction) for reaction in reactions]\n",
    "\n",
    "T = 1 # terminal time\n",
    "n = 10**2  # number of time steps\n",
    "N = 10**2 # number of paths\n",
    "initial_counts = np.array([1, 0, 0, 0])\n",
    "\n",
    "def tau_leaping(reactions, initial_counts, T, n, N):\n",
    "    \"\"\"\n",
    "    Implements the tau leaping method for simulating stochatic\n",
    "    biochemical equations\n",
    "    \"\"\"\n",
    "    k = initial_counts.size # number of reactants\n",
    "    h = T / n\n",
    "    \n",
    "    M = N # number of paths used this loop\n",
    "    \n",
    "    X = initial_counts * np.ones((M, k)) # molecular counts\n",
    "    \n",
    "    for _ in range(n):\n",
    "        reactions_occured = []\n",
    "        \n",
    "        for reaction in reactions:\n",
    "            reactions_occured.append(np.random.poisson(h * reaction.rate(X)))\n",
    "            \n",
    "        for reaction, r in zip(reactions, reactions_occured):\n",
    "            X += np.outer(r, reaction.change)\n",
    "            X = np.maximum(0, X) # due to approximation, can get -ve counts\n",
    "    \n",
    "    return X.mean(axis=0)\n",
    "    \n",
    "tau_leaping(reactions, initial_counts, T, n, N)"
   ]
  }
 ],
 "metadata": {
  "kernelspec": {
   "display_name": "Python 3",
   "language": "python",
   "name": "python3"
  },
  "language_info": {
   "codemirror_mode": {
    "name": "ipython",
    "version": 3
   },
   "file_extension": ".py",
   "mimetype": "text/x-python",
   "name": "python",
   "nbconvert_exporter": "python",
   "pygments_lexer": "ipython3",
   "version": "3.7.3"
  }
 },
 "nbformat": 4,
 "nbformat_minor": 2
}
