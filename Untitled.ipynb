{
 "cells": [
  {
   "cell_type": "markdown",
   "metadata": {
    "heading_collapsed": true
   },
   "source": [
    "# Preliminaries"
   ]
  },
  {
   "cell_type": "code",
   "execution_count": 5,
   "metadata": {
    "hidden": true
   },
   "outputs": [],
   "source": [
    "# Preliminaries\n",
    "import numpy as np\n",
    "from numpy import random as rd\n",
    "from numpy import linalg as la\n",
    "import matplotlib.pyplot as plt\n",
    "from scipy.stats import norm\n",
    "import time as tit\n",
    "\n",
    "# Supplied code:\n",
    "\n",
    "from numpy import pi, sqrt, log, exp\n",
    "\n",
    "#\n",
    "# Normal cumulative distribution function, with extension\n",
    "# for complex argument with small imaginary component\n",
    "#\n",
    "\n",
    "\n",
    "def norm_cdf(x):\n",
    "    if not isinstance(x, np.ndarray):\n",
    "        xr = x.real\n",
    "        xi = x.imag\n",
    "        if abs(xi) > 1.0e-10:\n",
    "            raise ValueError(\"imag(x) too large in norm_cdf(x)\")\n",
    "\n",
    "        ncf = norm.cdf(xr)\n",
    "        if abs(xi) > 0:\n",
    "            ncf = ncf + 1.0j * xi * norm.pdf(xr)\n",
    "    else:\n",
    "        xr = np.real(x)\n",
    "        xi = np.imag(x)\n",
    "        if any(abs(xi) > 1.0e-10):\n",
    "            raise ValueError(\"imag(x) too large in norm_cdf(x)\")\n",
    "\n",
    "        ncf = norm.cdf(xr)\n",
    "        if any(abs(xi) > 0):\n",
    "            ncf = ncf + 1.0j * xi * norm.pdf(xr)\n",
    "\n",
    "    return ncf\n",
    "\n",
    "\n",
    "# V = european_call(r,sigma,T,S,K,opt)\n",
    "#\n",
    "# Black-Scholes European call option solution\n",
    "# as defined in equation (3.17) on page 48 of\n",
    "# The Mathematics of Financial Derivatives\n",
    "# by Wilmott, Howison and Dewynne\n",
    "#\n",
    "# r     - interest rate\n",
    "# sigma - volatility\n",
    "# T     - time interval\n",
    "# S     - asset value(s)  (float or flattened numpy array)\n",
    "# K     - strike price(s) (float or flattened numpy array)\n",
    "# opt   - 'value', 'delta', 'gamma' or 'vega'\n",
    "# V     - option value(s) (float or flattened numpy array)\n",
    "#\n",
    "\n",
    "\n",
    "def european_call(r, sigma, T, S, K, opt):\n",
    "\n",
    "    S = S + 1.0e-100  # avoids problems with S=0\n",
    "    K = K + 1.0e-100  # avoids problems with K=0\n",
    "\n",
    "    d1 = (log(S) - log(K) + (r + 0.5 * sigma ** 2) * T) / (sigma * sqrt(T))\n",
    "    d2 = (log(S) - log(K) + (r - 0.5 * sigma ** 2) * T) / (sigma * sqrt(T))\n",
    "\n",
    "    if opt == \"value\":\n",
    "        V = S * norm_cdf(d1) - exp(-r * T) * K * norm_cdf(d2)\n",
    "    elif opt == \"delta\":\n",
    "        V = norm_cdf(d1)\n",
    "    elif opt == \"gamma\":\n",
    "        V = exp(-0.5 * d1 ** 2) / (sigma * sqrt(2 * pi * T) * S)\n",
    "    elif opt == \"vega\":\n",
    "        V = S * (exp(-0.5 * d1 ** 2) / sqrt(2 * pi)) * (sqrt(T) - d1 / sigma) - exp(\n",
    "            -r * T\n",
    "        ) * K * (exp(-0.5 * d2 ** 2) / sqrt(2 * pi)) * (-sqrt(T) - d2 / sigma)\n",
    "\n",
    "    else:\n",
    "        raise ValueError(\n",
    "            'invalid value for opt -- must be \"value\", \"delta\", \"gamma\", \"vega\"'\n",
    "        )\n",
    "\n",
    "    return V"
   ]
  },
  {
   "cell_type": "markdown",
   "metadata": {
    "heading_collapsed": true
   },
   "source": [
    "# Exercise #1"
   ]
  },
  {
   "cell_type": "markdown",
   "metadata": {
    "heading_collapsed": true,
    "hidden": true
   },
   "source": [
    "## Exercise 1.a"
   ]
  },
  {
   "cell_type": "markdown",
   "metadata": {
    "hidden": true
   },
   "source": [
    "We recall that a $\\mathcal{U}(0,1)$ distribution has mean 0 and variance $\\frac{1}{12} \\approx 0.083$. This is confirmed empirically using $n = 1000000$ samples. "
   ]
  },
  {
   "cell_type": "code",
   "execution_count": 6,
   "metadata": {
    "hidden": true
   },
   "outputs": [
    {
     "name": "stdout",
     "output_type": "stream",
     "text": [
      "[0.4996307292028802, 0.08329326121382097]\n"
     ]
    }
   ],
   "source": [
    "n = 1000000\n",
    "uni_samp = rd.rand(n)\n",
    "print([np.mean(uni_samp), np.var(uni_samp)])"
   ]
  },
  {
   "cell_type": "markdown",
   "metadata": {
    "hidden": true
   },
   "source": [
    "Similarly we confirm that $n=1000000$ samples from a $\\mathcal{N}(0,1)$ distribution have the expected mean and variance."
   ]
  },
  {
   "cell_type": "code",
   "execution_count": 7,
   "metadata": {
    "hidden": true
   },
   "outputs": [
    {
     "name": "stdout",
     "output_type": "stream",
     "text": [
      "[-0.0018610906501016807, 0.9999452374842455]\n"
     ]
    }
   ],
   "source": [
    "nor_samp = rd.randn(n)\n",
    "print([np.mean(nor_samp), np.var(nor_samp)])"
   ]
  },
  {
   "cell_type": "markdown",
   "metadata": {
    "heading_collapsed": true,
    "hidden": true
   },
   "source": [
    "## Exercise 1.b"
   ]
  },
  {
   "cell_type": "markdown",
   "metadata": {
    "hidden": true
   },
   "source": [
    "This code returns the empirical co-variance matrix of $n= 1000000$ pairs obtained using the Cholesky factorization method as well as the mean of all 2000000 samples."
   ]
  },
  {
   "cell_type": "code",
   "execution_count": 8,
   "metadata": {
    "hidden": true
   },
   "outputs": [
    {
     "ename": "NameError",
     "evalue": "name 'nor_samp_2' is not defined",
     "output_type": "error",
     "traceback": [
      "\u001b[1;31m---------------------------------------------------------------------------\u001b[0m",
      "\u001b[1;31mNameError\u001b[0m                                 Traceback (most recent call last)",
      "\u001b[1;32m<ipython-input-8-39f212bb7b4b>\u001b[0m in \u001b[0;36m<module>\u001b[1;34m\u001b[0m\n\u001b[0;32m      4\u001b[0m \u001b[1;31m# Cholesky\u001b[0m\u001b[1;33m\u001b[0m\u001b[1;33m\u001b[0m\u001b[1;33m\u001b[0m\u001b[0m\n\u001b[0;32m      5\u001b[0m \u001b[0mL\u001b[0m \u001b[1;33m=\u001b[0m \u001b[0mla\u001b[0m\u001b[1;33m.\u001b[0m\u001b[0mcholesky\u001b[0m\u001b[1;33m(\u001b[0m\u001b[0mSigma\u001b[0m\u001b[1;33m)\u001b[0m\u001b[1;33m\u001b[0m\u001b[1;33m\u001b[0m\u001b[0m\n\u001b[1;32m----> 6\u001b[1;33m \u001b[0mcov_nor_samp_2\u001b[0m \u001b[1;33m=\u001b[0m \u001b[0mnp\u001b[0m\u001b[1;33m.\u001b[0m\u001b[0mdot\u001b[0m\u001b[1;33m(\u001b[0m\u001b[0mL\u001b[0m\u001b[1;33m,\u001b[0m \u001b[0mnor_samp_2\u001b[0m\u001b[1;33m)\u001b[0m\u001b[1;33m\u001b[0m\u001b[1;33m\u001b[0m\u001b[0m\n\u001b[0m\u001b[0;32m      7\u001b[0m \u001b[0mprint\u001b[0m\u001b[1;33m(\u001b[0m\u001b[1;33m[\u001b[0m\u001b[0mnp\u001b[0m\u001b[1;33m.\u001b[0m\u001b[0mcov\u001b[0m\u001b[1;33m(\u001b[0m\u001b[0mcov_nor_samp_2\u001b[0m\u001b[1;33m)\u001b[0m\u001b[1;33m,\u001b[0m \u001b[0mnp\u001b[0m\u001b[1;33m.\u001b[0m\u001b[0mmean\u001b[0m\u001b[1;33m(\u001b[0m\u001b[0mcov_nor_samp_2\u001b[0m\u001b[1;33m)\u001b[0m\u001b[1;33m]\u001b[0m\u001b[1;33m)\u001b[0m\u001b[1;33m\u001b[0m\u001b[1;33m\u001b[0m\u001b[0m\n",
      "\u001b[1;31mNameError\u001b[0m: name 'nor_samp_2' is not defined"
     ]
    }
   ],
   "source": [
    "Sigma = np.array([[4, 1], [1, 4]])\n",
    "rd.randn(2, n)\n",
    "\n",
    "# Cholesky\n",
    "L = la.cholesky(Sigma)\n",
    "cov_nor_samp_2 = np.dot(L, nor_samp_2)\n",
    "print([np.cov(cov_nor_samp_2), np.mean(cov_nor_samp_2)])"
   ]
  },
  {
   "cell_type": "markdown",
   "metadata": {
    "heading_collapsed": true,
    "hidden": true
   },
   "source": [
    "## Exercise 1.c"
   ]
  },
  {
   "cell_type": "markdown",
   "metadata": {
    "hidden": true
   },
   "source": [
    "As above except we now use the PCA method to convert pairs of independent samples to pairs of correlated samples."
   ]
  },
  {
   "cell_type": "code",
   "execution_count": null,
   "metadata": {
    "hidden": true,
    "scrolled": true
   },
   "outputs": [],
   "source": [
    "# PCA\n",
    "Sig_eig, Sig_eigvects = la.eig(Sigma)  # eigenvalues and #eigenvectors of Sigma\n",
    "Sig_sqrt = np.diag(np.sqrt(Sig_eig))\n",
    "L_new = np.dot(Sig_eigvects, Sig_sqrt)\n",
    "cov_nor_samp_2 = np.dot(L_new, nor_samp_2)\n",
    "print([np.cov(cov_nor_samp_2), np.mean(cov_nor_samp_2)])"
   ]
  },
  {
   "cell_type": "markdown",
   "metadata": {
    "hidden": true
   },
   "source": [
    "## Exercise 1.d"
   ]
  },
  {
   "cell_type": "markdown",
   "metadata": {
    "hidden": true
   },
   "source": [
    "This code times how many pairs of correlated samples can be simulated form pairs of independent samples using the Cholesly factorization method. An analogue for the PCA method can be obtained by replacing $L$ with $L_{\\text{new}}$ in the code below."
   ]
  },
  {
   "cell_type": "code",
   "execution_count": 9,
   "metadata": {
    "hidden": true
   },
   "outputs": [
    {
     "name": "stdout",
     "output_type": "stream",
     "text": [
      "677000000\n"
     ]
    }
   ],
   "source": [
    "start = tit.time()\n",
    "time = start\n",
    "\n",
    "n = 1000000  # increments of number of samples\n",
    "count = 0\n",
    "\n",
    "while time < 60 + start:\n",
    "\n",
    "    nor_samp_2 = rd.randn(2, n)\n",
    "\n",
    "    cov_nor_samp_2 = np.dot(\n",
    "        L, nor_samp_2\n",
    "    )  # recovering correlated samples with Cholesky decomposition\n",
    "\n",
    "    time = tit.time()\n",
    "    count = count + 1\n",
    "\n",
    "print(count * n)"
   ]
  },
  {
   "cell_type": "markdown",
   "metadata": {
    "heading_collapsed": true
   },
   "source": [
    "# Exercise #2"
   ]
  },
  {
   "cell_type": "markdown",
   "metadata": {
    "heading_collapsed": true,
    "hidden": true
   },
   "source": [
    "## Exercise 2.a"
   ]
  },
  {
   "cell_type": "markdown",
   "metadata": {
    "hidden": true
   },
   "source": [
    "Using the double-angle formula for cosine and integration by parts, we obtain\n",
    "\\begin{align}\n",
    "\\mathbb{E} \\left[ f(U) \\right] &= -\\frac{2}{\\pi^2}, & \\mathbb{E} \\left[ \\left( f(U) \\right)^2 \\right] = \\frac{4 \\pi^3 +6 \\pi}{24\\pi^3}.\n",
    "\\end{align}"
   ]
  },
  {
   "cell_type": "code",
   "execution_count": 10,
   "metadata": {
    "hidden": true
   },
   "outputs": [],
   "source": [
    "# the above values are embedded in the code as follows\n",
    "ex = -2 / np.pi ** 2\n",
    "ex2 = (4 * np.pi ** 3 + 6 * np.pi) / (24 * np.pi ** 3)\n",
    "var = ex2 - ex ** 2\n",
    "\n",
    "\n",
    "def f(x):\n",
    "    return x * np.cos(x * np.pi)"
   ]
  },
  {
   "cell_type": "markdown",
   "metadata": {
    "hidden": true
   },
   "source": [
    "## Exercises 2.b, 2.c and 2.d"
   ]
  },
  {
   "cell_type": "markdown",
   "metadata": {
    "hidden": true
   },
   "source": [
    "We combine the code from these exercises in a single function in order to re-use this function in Exercise 3."
   ]
  },
  {
   "cell_type": "code",
   "execution_count": 11,
   "metadata": {
    "hidden": true
   },
   "outputs": [
    {
     "data": {
      "image/png": "[encoded data removed]",
      "text/plain": [
       "<Figure size 432x288 with 1 Axes>"
      ]
     },
     "metadata": {
      "needs_background": "light"
     },
     "output_type": "display_data"
    },
    {
     "data": {
      "image/png": "[encoded data removed]",
      "text/plain": [
       "<Figure size 432x288 with 1 Axes>"
      ]
     },
     "metadata": {
      "needs_background": "light"
     },
     "output_type": "display_data"
    }
   ],
   "source": [
    "# P(f, ex, var=None)\n",
    "#\n",
    "# Function producing two plots:\n",
    "# (1) - superimposition of empirical and theoretical cdfs based on 1000 sets of 1000 samples.\n",
    "# (2) - empirical mean of f(U) where U is a U(0,1) r.v. together with confidence intervals based on three standard deviations\n",
    "#       as a function of sample size N. Also plotted is the theoretical expectation of f(U) for reference purposes.\n",
    "#\n",
    "# f     - function from [0,1] to R\n",
    "# ex    - theoretical expectation of f(U) where U is a U(0,1) r.v.\n",
    "# var   - theoretical variance of f(U) where U is a U(0,1) r.v. (if var=None this is estimated empirically)\n",
    "\n",
    "\n",
    "def P(f, ex, var=None):\n",
    "    def C(m):\n",
    "        return (m - 1 / 2) / 1000\n",
    "\n",
    "    vals = f(rd.rand(1000, 1000))\n",
    "    y_axis = np.sort(np.mean(vals, axis=1))\n",
    "    x_axis = C(np.asarray(range(1, 1001)))\n",
    "\n",
    "    if var == None:\n",
    "        var = np.mean((vals - ex) ** 2)\n",
    "\n",
    "    y_axis_th = norm.ppf(x_axis, ex, np.sqrt(var / 1000))\n",
    "\n",
    "    plt.plot(x_axis, y_axis, label=\"Empirical CDF\")\n",
    "    plt.plot(x_axis, y_axis_th, label=\"Theoretical CDF\")\n",
    "    plt.title(\"CDF Plot\")\n",
    "    plt.xlabel(\"Quantile\")\n",
    "    plt.ylabel(\"Function value\")\n",
    "    plt.legend(loc=\"lower right\")\n",
    "    plt.show()\n",
    "\n",
    "    f_rand = f(rd.rand(1000000))\n",
    "    x_vec = np.empty(0)\n",
    "    y_vec = np.empty(0)\n",
    "    var_vec = np.empty(0)\n",
    "\n",
    "    for N in range(1, 1001):\n",
    "        N_curr = 1000 * N\n",
    "        f_curr = f_rand[0 : (N_curr - 1)]\n",
    "        x_vec = np.append(x_vec, N_curr)\n",
    "        y_vec = np.append(y_vec, np.mean(f_curr))\n",
    "        var_vec = np.append(var_vec, np.mean((f_curr - ex) ** 2 / N_curr))\n",
    "\n",
    "    cinf = 3 * np.sqrt(var_vec)\n",
    "\n",
    "    plt.plot(x_vec, y_vec, label=\"Empirical Mean\")\n",
    "    plt.plot(x_vec, y_vec + cinf, label=\"Upper Conf. Int.\")\n",
    "    plt.plot(x_vec, y_vec - cinf, label=\"Lower Conf. Int.\")\n",
    "    plt.plot(x_vec, [ex] * 1000, label=\"Theoretical Mean\")\n",
    "    plt.title(\"Estimator convergence Plot\")\n",
    "    plt.xlabel(\"N\")\n",
    "    plt.ylabel(\"Function value\")\n",
    "    plt.legend(loc=\"lower right\")\n",
    "    plt.show()\n",
    "\n",
    "\n",
    "P(f, ex, var)"
   ]
  },
  {
   "cell_type": "markdown",
   "metadata": {
    "hidden": true
   },
   "source": [
    "The results we obtain are consistet with the Central Limit Theorem. We observe a near overlap between the emprical and theoretical CDFs in our first plot. While this is a very vague statement, it could be formalized using a goodness of fit test. For the second plot, we observe how relatively wide convidence interval for the empirical mean when $N = 1000$ day as $N$ increases. This decay should theoretically be of the order of $N^{-1/2}$ but this is not exact in our case since we estimate the variance of our estimator based on a finite (and increasing amount of samples). We also observe that the theoretical mean of $f(U)$ is always within the confidence interval and that the empirical and theoretical means converge to the point that we cannot distinguish the two lines in the plot. All these observations are consistent with the Central Limit Theorem and hence give credibility to the code."
   ]
  },
  {
   "cell_type": "markdown",
   "metadata": {
    "heading_collapsed": true
   },
   "source": [
    "# Exercise #3"
   ]
  },
  {
   "cell_type": "code",
   "execution_count": 12,
   "metadata": {
    "hidden": true
   },
   "outputs": [
    {
     "data": {
      "image/png": "[encoded data removed]",
      "text/plain": [
       "<Figure size 432x288 with 1 Axes>"
      ]
     },
     "metadata": {
      "needs_background": "light"
     },
     "output_type": "display_data"
    },
    {
     "data": {
      "image/png": "[encoded data removed]",
      "text/plain": [
       "<Figure size 432x288 with 1 Axes>"
      ]
     },
     "metadata": {
      "needs_background": "light"
     },
     "output_type": "display_data"
    }
   ],
   "source": [
    "# model parameters\n",
    "[r, sigma, S_0, K, T] = [0.05, 0.2, 100, 100, 1]\n",
    "\n",
    "# theoretical price of a call option in the Black Scholes model with parameters as specified above\n",
    "ex = european_call(r, sigma, T, S_0, K, opt=\"value\")\n",
    "\n",
    "# S(x, r=r, sigma=sigma, T=T, S_0=S_0, K=K)\n",
    "#\n",
    "# Stock price in the Black-Scholes Model\n",
    "#\n",
    "# x     - number between 0 and 1\n",
    "# r     - interest rate (default as specified above)\n",
    "# sigma - volatility (default as specified above)\n",
    "# T     - time interval (default as specified above)\n",
    "# S_0   - initial stock price (default as specified above)\n",
    "\n",
    "\n",
    "def S(x, r=r, sigma=sigma, T=T, S_0=S_0):\n",
    "    return S_0 * np.exp((r - 0.5 * sigma ** 2) * T + sigma * np.sqrt(T) * norm.ppf(x))\n",
    "\n",
    "\n",
    "# f_call(x, r=r, sigma=sigma, T=T, S_0=S_0, K=K)\n",
    "#\n",
    "# Call payoff in the Black-Scholes Model\n",
    "#\n",
    "# x     - number between 0 and 1\n",
    "# r     - interest rate (default as specified above)\n",
    "# sigma - volatility (default as specified above)\n",
    "# T     - time interval (default as specified above)\n",
    "# S_0   - initial stock price (default as specified above)\n",
    "# K     - strike price (default as specified above)\n",
    "\n",
    "\n",
    "def f_call(x, r=r, sigma=sigma, T=T, S_0=S_0, K=K):\n",
    "    test = S(x, r, sigma, T, S_0) - K\n",
    "    return np.exp(-r * T) * (abs(test) + test) / 2\n",
    "\n",
    "\n",
    "P(f_call, ex, var=None)"
   ]
  },
  {
   "cell_type": "markdown",
   "metadata": {
    "heading_collapsed": true
   },
   "source": [
    "# Exercise #4"
   ]
  },
  {
   "cell_type": "markdown",
   "metadata": {
    "hidden": true
   },
   "source": [
    "This code produces an array with the variances of (1) the vanilla estimator, (2) the antithetic variate estimator and (3) the control variate estimator. It also outputs the estimated correlation between $f(W)$ and $f(-W)$."
   ]
  },
  {
   "cell_type": "code",
   "execution_count": 19,
   "metadata": {
    "hidden": true
   },
   "outputs": [
    {
     "name": "stdout",
     "output_type": "stream",
     "text": [
      "[0.00021732197042840688, 5.4103594932469635e-05, 3.147717827936233e-05] -0.5010098188388287\n"
     ]
    }
   ],
   "source": [
    "n = 1000000\n",
    "rand_vals = rd.rand(n)\n",
    "p1 = f_call(rand_vals)\n",
    "p2 = f_call(1 - rand_vals)  # switching tails\n",
    "av_price = 0.5 * (p1 + p2)\n",
    "est_corr = np.corrcoef(p1, p2)[0, 1]\n",
    "\n",
    "# comparison of regular and antithetic variances\n",
    "regular_variance = np.var(p1) / n\n",
    "\n",
    "antithetic_variance = np.var(av_price) / n\n",
    "\n",
    "p_control = np.exp(-r * T) * S(rand_vals)\n",
    "cov_mat = np.cov(p_control, p1)\n",
    "lbda = cov_mat[0, 1] / cov_mat[0, 0]\n",
    "\n",
    "# control variance\n",
    "control_variance = np.var(p1 - lbda * (p_control - S_0)) / n\n",
    "\n",
    "print([regular_variance, antithetic_variance, control_variance], est_corr)"
   ]
  },
  {
   "cell_type": "markdown",
   "metadata": {},
   "source": [
    "# Exercise #5"
   ]
  },
  {
   "cell_type": "markdown",
   "metadata": {},
   "source": [
    "## Exercise 5.a"
   ]
  },
  {
   "cell_type": "markdown",
   "metadata": {},
   "source": [
    "This code produces two outputs: (1) a vanilla Monte carlo estimator of the price of a digital put option in the Black Scholes model with $N = 10000000$ and (2) the number of samples $N$ such that the 3 standard deviation confidence limit of our estimator corresponds to ± 10\\%. For the latter we observe that such $N$ must in theory satisfy \n",
    "\\begin{align}\n",
    "\\label{funnyeq}\n",
    "3 * \\frac{\\sigma}{\\sqrt{N}} = 0.10 * \\mu,\n",
    "\\end{align}\n",
    "where $\\mu$ an $\\sigma$ are the exact expectation and standard deviation of the option payoff. Replacing $\\mu$ an $\\sigma$ by their estimators based on $10000000$ samples, we can solve (\\ref{funnyeq}) for $N$ and then take the ceiling to obtain an integer value."
   ]
  },
  {
   "cell_type": "code",
   "execution_count": 21,
   "metadata": {},
   "outputs": [
    {
     "name": "stdout",
     "output_type": "stream",
     "text": [
      "0.00013811851243750436 6197448.0\n"
     ]
    }
   ],
   "source": [
    "# model parameters\n",
    "[r, sigma, S_0, K, T] = [0.05, 0.2, 100, 50, 1]\n",
    "\n",
    "n = 10000000\n",
    "rand_vec = rd.rand(n)\n",
    "\n",
    "# f(x)\n",
    "#\n",
    "# Digital put option payoff in the Black-Scholes Model\n",
    "#\n",
    "# x     - number between 0 and 1\n",
    "\n",
    "def f(x):\n",
    "    return np.exp(-r * T) * np.heaviside(K - S(x), 0.5)  # re-using stock price function\n",
    "\n",
    "f_rand = f(rand_vec)\n",
    "\n",
    "[ex, var] = [np.mean(f_rand), np.var(f_rand)]\n",
    "\n",
    "print(ex, np.ceil(900 * var / ex ** 2))"
   ]
  },
  {
   "cell_type": "markdown",
   "metadata": {},
   "source": [
    "## Exercise 5.b"
   ]
  },
  {
   "cell_type": "markdown",
   "metadata": {},
   "source": [
    "From the dynamics of a stock price in the Black Scholes model we wish to find $r^*$ such that \n",
    "\n",
    "\\begin{align}\n",
    "K = S_0 \\exp \\left( \\left( r^* - 0.5 \\sigma^2 \\right)T \\right)\n",
    "\\end{align}\n",
    "\n",
    "and we easily deduce that \n",
    "\n",
    "\\begin{align}\n",
    "r^* = \\frac{\\log \\left( \\frac{K}{S_0} \\right) + 0.5 \\sigma^2 T }{T}.\n",
    "\\end{align}\n",
    "\n",
    "In the below code we essentially repeat Exercise 5.a except we now simulate stock prices with drift $r^*$ and obtain an estimator for the price of a digital put option when the underying stock has drift $r$ using importance sampling. Calculation of the likelihood ratio for importance sampling relies on the log-normal distribution of stock prices in the Black Scholes model. "
   ]
  },
  {
   "cell_type": "code",
   "execution_count": 22,
   "metadata": {},
   "outputs": [
    {
     "name": "stdout",
     "output_type": "stream",
     "text": [
      "0.0001424848109840373 3665.0\n"
     ]
    }
   ],
   "source": [
    "# new drift\n",
    "r_star = (np.log(K / S_0) + 0.5 * sigma ** 2 * T) / T\n",
    "\n",
    "# f_star(x)\n",
    "#\n",
    "# Digital put option payoff scaled by the likelihood ratio when stock prices are simulated from the model with r_star\n",
    "#\n",
    "# x     - number between 0 and 1\n",
    "\n",
    "\n",
    "def f_star(x):\n",
    "    # stock price with drift r_star\n",
    "    S_T = S_0 * np.exp(\n",
    "        (r_star - 0.5 * sigma ** 2) * T + sigma * np.sqrt(T) * norm.ppf(x)\n",
    "    )\n",
    "    log_s = np.log(S_T / S_0)\n",
    "    # likelihood ratio\n",
    "    lr = np.exp(\n",
    "        (\n",
    "            (log_s - (r_star - 0.5 * sigma ** 2) * T) ** 2\n",
    "            - (log_s - (r - 0.5 * sigma ** 2) * T) ** 2\n",
    "        )\n",
    "        / (2 * sigma ** 2 * T)\n",
    "    )\n",
    "    return np.exp(-r * T) * np.heaviside(K - S_T, 0.5) * lr\n",
    "\n",
    "\n",
    "f_rand_star = f_star(rand_vec)\n",
    "\n",
    "[ex_star, var_star] = [np.mean(f_rand_star), np.var(f_rand_star)]\n",
    "\n",
    "N_star = np.ceil(900 * var_star / ex_star ** 2)\n",
    "\n",
    "print(ex_star, N_star)"
   ]
  },
  {
   "cell_type": "markdown",
   "metadata": {
    "heading_collapsed": true
   },
   "source": [
    "# Exercise #6"
   ]
  },
  {
   "cell_type": "markdown",
   "metadata": {
    "hidden": true
   },
   "source": [
    "In this code we compare the performance of the finite difference method (with re-used and with independent samples) as well as the pathwise method for estimating the Black Scholes delta and vega. We compare the estimators with the theoretical finite differences based on the explicit formula for a Black Scholes call option price as well as the exact sensitivities that can be calculated using this formula. For the pathwise approach, we use the fact that for the call option price in the Black Scholes model\n",
    "\\begin{align}\n",
    "Y = \\exp(-rT) \\left( S_t-K \\right)_+,\n",
    "\\end{align}\n",
    "we have\n",
    "\\begin{align}\n",
    "\\frac{\\partial Y}{\\partial S_0} &= \\exp(-rT) \\frac{S_T} {S_0} 1_{S_T > K}, &\n",
    "\\frac{\\partial Y}{\\partial \\sigma} &= \\exp(-rT)  \\frac{\\log(S_T / S_0 ) - \\left(r-\\sigma^2/2 \\right) T}{\\sigma} S_T 1_{S_T > K}.\n",
    "\\end{align}"
   ]
  },
  {
   "cell_type": "code",
   "execution_count": 4,
   "metadata": {
    "hidden": true
   },
   "outputs": [
    {
     "ename": "NameError",
     "evalue": "name 'european_call' is not defined",
     "output_type": "error",
     "traceback": [
      "\u001b[1;31m---------------------------------------------------------------------------\u001b[0m",
      "\u001b[1;31mNameError\u001b[0m                                 Traceback (most recent call last)",
      "\u001b[1;32m<ipython-input-4-fc204fd28df4>\u001b[0m in \u001b[0;36m<module>\u001b[1;34m\u001b[0m\n\u001b[0;32m      3\u001b[0m \u001b[1;33m\u001b[0m\u001b[0m\n\u001b[0;32m      4\u001b[0m \u001b[1;31m#Theoretical call option price in the Black Scholes model\u001b[0m\u001b[1;33m\u001b[0m\u001b[1;33m\u001b[0m\u001b[1;33m\u001b[0m\u001b[0m\n\u001b[1;32m----> 5\u001b[1;33m \u001b[0mex\u001b[0m \u001b[1;33m=\u001b[0m \u001b[0meuropean_call\u001b[0m\u001b[1;33m(\u001b[0m\u001b[0mr\u001b[0m\u001b[1;33m,\u001b[0m \u001b[0msigma\u001b[0m\u001b[1;33m,\u001b[0m \u001b[0mT\u001b[0m\u001b[1;33m,\u001b[0m \u001b[0mS_0\u001b[0m\u001b[1;33m,\u001b[0m \u001b[0mK\u001b[0m\u001b[1;33m,\u001b[0m \u001b[0mopt\u001b[0m\u001b[1;33m=\u001b[0m\u001b[1;34m\"value\"\u001b[0m\u001b[1;33m)\u001b[0m\u001b[1;33m\u001b[0m\u001b[1;33m\u001b[0m\u001b[0m\n\u001b[0m\u001b[0;32m      6\u001b[0m \u001b[1;33m\u001b[0m\u001b[0m\n\u001b[0;32m      7\u001b[0m \u001b[1;31m# fd_method(h, r=r, sigma=sigma, T=T, S_0=S_0, K=K, rep=True, tpe=True)\u001b[0m\u001b[1;33m\u001b[0m\u001b[1;33m\u001b[0m\u001b[1;33m\u001b[0m\u001b[0m\n",
      "\u001b[1;31mNameError\u001b[0m: name 'european_call' is not defined"
     ]
    }
   ],
   "source": [
    "#Model parameters\n",
    "[r, sigma, S_0, K, T] = [0.05, 0.2, 100, 100, 1]\n",
    "\n",
    "#Theoretical call option price in the Black Scholes model\n",
    "ex = european_call(r, sigma, T, S_0, K, opt=\"value\")\n",
    "\n",
    "# fd_method(h, r=r, sigma=sigma, T=T, S_0=S_0, K=K, rep=True, tpe=True)\n",
    "#\n",
    "# Function returns mean and variance of 100000 samples of finite differences.\n",
    "#\n",
    "# h     - bump size\n",
    "# r     - interest rate (default as specified above)\n",
    "# sigma - volatility (default as specified above)\n",
    "# T     - time interval (default as specified above)\n",
    "# S_0   - initial stock price (default as specified above)\n",
    "# K     - strike price (default as specified above)\n",
    "# rep   - Boolean: if tpe=True then re-use samples, else use independendent samples\n",
    "# tpe   - Boolean: if rep=True then apply finite difference to S_0, else to sigma\n",
    "\n",
    "def fd_method(h, r=r, sigma=sigma, T=T, S_0=S_0, K=K, rep=True, tpe=True):\n",
    "\n",
    "    y_vec = np.empty(0)\n",
    "    var_vec = np.empty(0)\n",
    "\n",
    "    for N in range(0, len(h)):\n",
    "\n",
    "        [h1, h2] = [0, 0]\n",
    "\n",
    "        if tpe == True:\n",
    "            h2 = h[N]\n",
    "        else:\n",
    "            h1 = h[N]\n",
    "\n",
    "        rand_vec = rd.rand(100000)\n",
    "        v_1 = (\n",
    "            f_call(rand_vec, r, sigma + h1, T, S_0 + h2, K)\n",
    "            + f_call(1 - rand_vec, r, sigma + h1, T, S_0 + h2, K)\n",
    "        ) / 2\n",
    "\n",
    "        if rep == True:\n",
    "            v_2 = (\n",
    "                f_call(rand_vec, r, sigma - h1, T, S_0 - h2, K)\n",
    "                + f_call(1 - rand_vec, r, sigma - h1, T, S_0 - h2, K)\n",
    "            ) / 2\n",
    "        else:\n",
    "            rand_vec_2 = rd.rand(100000)\n",
    "            v_2 = (\n",
    "                f_call(rand_vec_2, r, sigma - h1, T, S_0 - h2, K)\n",
    "                + f_call(rand_vec_2, r, sigma - h1, T, S_0 - h2, K)\n",
    "            ) / 2\n",
    "\n",
    "        y_vec = np.append(y_vec, np.mean(v_1 - v_2) / (2 * h[N]))\n",
    "        var_vec = np.append(var_vec, np.var((v_1 - v_2) / (2 * h[N])) / 100000)\n",
    "\n",
    "    return y_vec, var_vec\n",
    "\n",
    "# test(h, r=r, sigma=sigma, T=T, S_0=S_0, K=K, tpe=True)\n",
    "#\n",
    "# Function returns theoretical finite difference based on the formula for a call option price in the Black Scholes model.\n",
    "#\n",
    "# h     - bump size\n",
    "# r     - interest rate (default as specified above)\n",
    "# sigma - volatility (default as specified above)\n",
    "# T     - time interval (default as specified above)\n",
    "# S_0   - initial stock price (default as specified above)\n",
    "# K     - strike price (default as specified above)\n",
    "# tpe   - Boolean: if rep=True then apply finite difference to S_0, else to sigma\n",
    "\n",
    "def test(h, r=r, sigma=sigma, T=T, S_0=S_0, K=K, tpe=True):\n",
    "\n",
    "    if tpe == True:\n",
    "\n",
    "        return (\n",
    "            european_call(r, sigma, T, S_0 + h, K, opt=\"value\")\n",
    "            - european_call(r, sigma, T, S_0 - h, K, opt=\"value\")\n",
    "        ) / (2 * h)\n",
    "\n",
    "    else:\n",
    "        return (\n",
    "            european_call(r, sigma + h, T, S_0, K, opt=\"value\")\n",
    "            - european_call(r, sigma - h, T, S_0, K, opt=\"value\")\n",
    "        ) / (2 * h)"
   ]
  },
  {
   "cell_type": "code",
   "execution_count": null,
   "metadata": {
    "hidden": true
   },
   "outputs": [],
   "source": [
    "# testing delta finite difference\n",
    "\n",
    "# f_call_ds(x, r=r, sigma=sigma, T=T, S_0=S_0, K=K)\n",
    "#\n",
    "# Function returns a pathwise \"delta\" sensitiviity based on the explicit formula. \n",
    "#\n",
    "# x     - number between 0 and 1\n",
    "# r     - interest rate (default as specified above)\n",
    "# sigma - volatility (default as specified above)\n",
    "# T     - time interval (default as specified above)\n",
    "# S_0   - initial stock price (default as specified above)\n",
    "# K     - strike price (default as specified above)\n",
    "\n",
    "def f_call_ds(x, r=r, sigma=sigma, T=T, S_0=S_0, K=K):\n",
    "    S_T = S(x, r, sigma, T, S_0)\n",
    "    test = S_T - K\n",
    "    return np.exp(-r * T) * S_T / S_0 * (abs(test) + test) / (2 * abs(test))\n",
    "\n",
    "\n",
    "# f_call_dsigma(x, r=r, sigma=sigma, T=T, S_0=S_0, K=K)\n",
    "#\n",
    "# Function returns a pathwise \"vega\" sensitiviity based on the explicit formula. \n",
    "#\n",
    "# x     - number between 0 and 1\n",
    "# r     - interest rate (default as specified above)\n",
    "# sigma - volatility (default as specified above)\n",
    "# T     - time interval (default as specified above)\n",
    "# S_0   - initial stock price (default as specified above)\n",
    "# K     - strike price (default as specified above)\n",
    "\n",
    "def f_call_dsigma(x, r=r, sigma=sigma, T=T, S_0=S_0, K=K):\n",
    "    S_T = S(x, r, sigma, T, S_0)\n",
    "    test = S_T - K\n",
    "    return (\n",
    "        np.exp(-r * T)\n",
    "        * (-sigma * T + np.sqrt(T) * norm.ppf(x))\n",
    "        * S_T\n",
    "        * (abs(test) + test)\n",
    "        / (2 * abs(test))\n",
    "    )\n",
    "\n",
    "# plot_fun(tpe)\n",
    "#\n",
    "# Function producing two plots (using N= 100000 samples for estimators):\n",
    "# (1) - superimposition of the theoretical sensitivity, theoretical finite difference sensitivitiy (based on the explicit\n",
    "#       formula for a call option price in the Black Scholes model), one estimator of the pathwise sensitivity and finally\n",
    "#       one estimator for the finite difference sensitivity as a function of bump size from 0.01 to 0.1 (100 bumps considered).\n",
    "# (2) - (Estimated) Log-variance as a function of log-bump size for the estimator of the finite difference sensitivity with \n",
    "#       and without re-using samples as well as an (estimated) log-variance of the pathwise estimator. \n",
    "#\n",
    "# tpe   - Boolean: if rep=True then apply function to S_0 (delta), else to sigma (vega)\n",
    "\n",
    "\n",
    "def plot_fun(tpe):\n",
    "\n",
    "    if tpe == True:\n",
    "        strg = \"delta\"\n",
    "        f = f_call_ds\n",
    "    else:\n",
    "        strg = \"vega\"\n",
    "        f= f_call_dsigma\n",
    "\n",
    "    x_vec = np.linspace(0.01, 0.1, num=100)\n",
    "    output = fd_method(x_vec, rep=True, tpe=tpe)\n",
    "    var_vec_2 = fd_method(x_vec, rep=False, tpe=tpe)[1]\n",
    "    [y_vec, var_vec] = [output[0], output[1]]\n",
    "\n",
    "    ex = european_call(r, sigma, T, S_0, K, opt=strg)\n",
    "    pwise_samples = f(rd.rand(100000))\n",
    "    [pwise, pwise_var] = [np.mean(pwise_samples), np.var(pwise_samples) / 100000]\n",
    "\n",
    "    plt.plot(x_vec, y_vec, label=\"Bump \" + strg)\n",
    "    plt.plot(x_vec, [ex] * 100, label=\"Theoretical \" + strg)\n",
    "    plt.plot(x_vec, test(x_vec, tpe=tpe), label=\"Theoretical finite difference\")\n",
    "    plt.plot(x_vec, [pwise] * 100, label=\"Pointwise \" + strg)\n",
    "    plt.title(\"Estimating delta\")\n",
    "    plt.xlabel(\"Bump\")\n",
    "    plt.ylabel(strg.capitalize())\n",
    "    plt.legend(loc=\"upper right\")\n",
    "    plt.show()\n",
    "\n",
    "    x_log = np.log(x_vec)\n",
    "\n",
    "    plt.plot(x_log, np.log(var_vec), label=\"Re-using samples variance\")\n",
    "    plt.plot(x_log, np.log(var_vec_2), label=\"Independent samples variance\")\n",
    "    plt.plot(x_log, [np.log(pwise_var)] * 100, label=\"Pointwise variance\")\n",
    "    plt.title(\"Variance of estimators\")\n",
    "    plt.xlabel(\"Log bump\")\n",
    "    plt.ylabel(\"Log variance\")\n",
    "    plt.legend(loc=\"upper right\")\n",
    "    plt.show()\n",
    "\n",
    "\n",
    "plot_fun(tpe=True)"
   ]
  },
  {
   "cell_type": "code",
   "execution_count": null,
   "metadata": {
    "hidden": true
   },
   "outputs": [],
   "source": [
    "# testing vega finite difference\n",
    "\n",
    "plot_fun(tpe=False)"
   ]
  }
 ],
 "metadata": {
  "kernelspec": {
   "display_name": "Python 3",
   "language": "python",
   "name": "python3"
  },
  "language_info": {
   "codemirror_mode": {
    "name": "ipython",
    "version": 3
   },
   "file_extension": ".py",
   "mimetype": "text/x-python",
   "name": "python",
   "nbconvert_exporter": "python",
   "pygments_lexer": "ipython3",
   "version": "3.7.1"
  },
  "latex_envs": {
   "LaTeX_envs_menu_present": true,
   "autoclose": false,
   "autocomplete": true,
   "bibliofile": "biblio.bib",
   "cite_by": "apalike",
   "current_citInitial": 1,
   "eqLabelWithNumbers": true,
   "eqNumInitial": 1,
   "hotkeys": {
    "equation": "Ctrl-E",
    "itemize": "Ctrl-I"
   },
   "labels_anchors": false,
   "latex_user_defs": false,
   "report_style_numbering": false,
   "user_envs_cfg": false
  },
  "toc": {
   "base_numbering": 1,
   "nav_menu": {},
   "number_sections": true,
   "sideBar": true,
   "skip_h1_title": false,
   "title_cell": "Table of Contents",
   "title_sidebar": "Contents",
   "toc_cell": false,
   "toc_position": {},
   "toc_section_display": true,
   "toc_window_display": false
  }
 },
 "nbformat": 4,
 "nbformat_minor": 2
}
